{
 "cells": [
  {
   "cell_type": "code",
   "execution_count": 0,
   "metadata": {
    "application/vnd.databricks.v1+cell": {
     "cellMetadata": {
      "byteLimit": 2048000,
      "rowLimit": 10000
     },
     "inputWidgets": {},
     "nuid": "3b139158-8326-41cc-b9aa-270e64102d81",
     "showTitle": false,
     "tableResultSettingsMap": {},
     "title": ""
    }
   },
   "outputs": [],
   "source": [
    "from pyspark.sql.functions import * \n",
    "from pyspark.sql.types import *\n",
    "from pyspark.sql.window import Window"
   ]
  },
  {
   "cell_type": "markdown",
   "metadata": {
    "application/vnd.databricks.v1+cell": {
     "cellMetadata": {
      "byteLimit": 2048000,
      "rowLimit": 10000
     },
     "inputWidgets": {},
     "nuid": "6342cf19-a49c-479f-bf48-4bb5e8ec0fe5",
     "showTitle": false,
     "tableResultSettingsMap": {},
     "title": ""
    }
   },
   "source": [
    "# Silver Data Transformation (Title files)"
   ]
  },
  {
   "cell_type": "code",
   "execution_count": 0,
   "metadata": {
    "application/vnd.databricks.v1+cell": {
     "cellMetadata": {
      "byteLimit": 2048000,
      "rowLimit": 10000
     },
     "inputWidgets": {},
     "nuid": "186a5164-50fb-4c0b-8430-28c4ee27083b",
     "showTitle": false,
     "tableResultSettingsMap": {},
     "title": ""
    }
   },
   "outputs": [],
   "source": [
    "df = spark.read.format(\"delta\")\\\n",
    "        .option(\"header\",True)\\\n",
    "        .option(\"inferSchema\",True)\\\n",
    "        .load(\"abfss://01-bronze@project03storage.dfs.core.windows.net/netflix_titles\")"
   ]
  },
  {
   "cell_type": "code",
   "execution_count": 0,
   "metadata": {
    "application/vnd.databricks.v1+cell": {
     "cellMetadata": {
      "byteLimit": 2048000,
      "rowLimit": 10000
     },
     "inputWidgets": {},
     "nuid": "e9c41e16-9510-420d-8d21-e585cebd9b0e",
     "showTitle": false,
     "tableResultSettingsMap": {},
     "title": ""
    }
   },
   "outputs": [
    {
     "output_type": "display_data",
     "data": {
      "text/html": [
       "<style scoped>\n",
       "  .table-result-container {\n",
       "    max-height: 300px;\n",
       "    overflow: auto;\n",
       "  }\n",
       "  table, th, td {\n",
       "    border: 1px solid black;\n",
       "    border-collapse: collapse;\n",
       "  }\n",
       "  th, td {\n",
       "    padding: 5px;\n",
       "  }\n",
       "  th {\n",
       "    text-align: left;\n",
       "  }\n",
       "</style><div class='table-result-container'><table class='table-result'><thead style='background-color: white'><tr><th>duration_minutes</th><th>duration_seasons</th><th>type</th><th>title</th><th>date_added</th><th>release_year</th><th>rating</th><th>description</th><th>show_id</th><th>_rescued_data</th></tr></thead><tbody><tr><td>90</td><td>null</td><td>Movie</td><td>Norm of the North: King Sized Adventure</td><td>9/9/2019</td><td>2019</td><td>TV-PG</td><td>Before planning an awesome wedding for his grandfather, a polar bear king must take back a stolen artifact from an evil archaeologist first.</td><td>81145628</td><td>null</td></tr><tr><td>94</td><td>null</td><td>Movie</td><td>Jandino: Whatever it Takes</td><td>9/9/2016</td><td>2016</td><td>TV-MA</td><td>\"Jandino Asporaat riffs on the challenges of raising kids and serenades the audience with a rousing rendition of \"\"Sex on Fire\"\" in his comedy show.\"</td><td>80117401</td><td>null</td></tr><tr><td>null</td><td>1</td><td>TV Show</td><td>Transformers Prime</td><td>9/8/2018</td><td>2013</td><td>TV-Y7-FV</td><td>With the help of three human allies, the Autobots once again protect Earth from the onslaught of the Decepticons and their leader, Megatron.</td><td>70234439</td><td>null</td></tr><tr><td>null</td><td>1</td><td>TV Show</td><td>Transformers: Robots in Disguise</td><td>9/8/2018</td><td>2016</td><td>TV-Y7</td><td>When a prison ship crash unleashes hundreds of Decepticons on Earth, Bumblebee leads a new Autobot force to protect humankind.</td><td>80058654</td><td>null</td></tr><tr><td>99</td><td>null</td><td>Movie</td><td>#realityhigh</td><td>9/8/2017</td><td>2017</td><td>TV-14</td><td>When nerdy high schooler Dani finally attracts the interest of her longtime crush, she lands in the cross hairs of his ex, a social media celebrity.</td><td>80125979</td><td>null</td></tr><tr><td>null</td><td>1</td><td>TV Show</td><td>Apaches</td><td>9/8/2017</td><td>2016</td><td>TV-MA</td><td>A young journalist is forced into a life of crime to save his father and family in this series based on the novel by Miguel Sáez Carral.</td><td>80163890</td><td>null</td></tr><tr><td>110</td><td>null</td><td>Movie</td><td>Automata</td><td>9/8/2017</td><td>2014</td><td>R</td><td>In a dystopian future, an insurance adjuster for a tech company investigates a robot killed for violating protocol and discovers a global conspiracy.</td><td>70304989</td><td>null</td></tr><tr><td>60</td><td>null</td><td>Movie</td><td>Fabrizio Copano: Solo pienso en mi</td><td>9/8/2017</td><td>2017</td><td>TV-MA</td><td>Fabrizio Copano takes audience participation to the next level in this stand-up set while reflecting on sperm banks, family WhatsApp groups and more.</td><td>80164077</td><td>null</td></tr><tr><td>null</td><td>1</td><td>TV Show</td><td>Fire Chasers</td><td>9/8/2017</td><td>2017</td><td>TV-MA</td><td>As California's 2016 fire season rages, brave backcountry firefighters race to put out the flames, protect homes and save lives in this docuseries.</td><td>80117902</td><td>null</td></tr><tr><td>90</td><td>null</td><td>Movie</td><td>Good People</td><td>9/8/2017</td><td>2014</td><td>R</td><td>A struggling couple can't believe their luck when they find a stash of money in the apartment of a neighbor who was recently murdered.</td><td>70304990</td><td>null</td></tr></tbody></table></div>"
      ]
     },
     "metadata": {
      "application/vnd.databricks.v1+output": {
       "addedWidgets": {},
       "aggData": [],
       "aggError": "",
       "aggOverflow": false,
       "aggSchema": [],
       "aggSeriesLimitReached": false,
       "aggType": "",
       "arguments": {},
       "columnCustomDisplayInfos": {},
       "data": [
        [
         "90",
         null,
         "Movie",
         "Norm of the North: King Sized Adventure",
         "9/9/2019",
         "2019",
         "TV-PG",
         "Before planning an awesome wedding for his grandfather, a polar bear king must take back a stolen artifact from an evil archaeologist first.",
         "81145628",
         null
        ],
        [
         "94",
         null,
         "Movie",
         "Jandino: Whatever it Takes",
         "9/9/2016",
         "2016",
         "TV-MA",
         "\"Jandino Asporaat riffs on the challenges of raising kids and serenades the audience with a rousing rendition of \"\"Sex on Fire\"\" in his comedy show.\"",
         "80117401",
         null
        ],
        [
         null,
         "1",
         "TV Show",
         "Transformers Prime",
         "9/8/2018",
         "2013",
         "TV-Y7-FV",
         "With the help of three human allies, the Autobots once again protect Earth from the onslaught of the Decepticons and their leader, Megatron.",
         "70234439",
         null
        ],
        [
         null,
         "1",
         "TV Show",
         "Transformers: Robots in Disguise",
         "9/8/2018",
         "2016",
         "TV-Y7",
         "When a prison ship crash unleashes hundreds of Decepticons on Earth, Bumblebee leads a new Autobot force to protect humankind.",
         "80058654",
         null
        ],
        [
         "99",
         null,
         "Movie",
         "#realityhigh",
         "9/8/2017",
         "2017",
         "TV-14",
         "When nerdy high schooler Dani finally attracts the interest of her longtime crush, she lands in the cross hairs of his ex, a social media celebrity.",
         "80125979",
         null
        ],
        [
         null,
         "1",
         "TV Show",
         "Apaches",
         "9/8/2017",
         "2016",
         "TV-MA",
         "A young journalist is forced into a life of crime to save his father and family in this series based on the novel by Miguel Sáez Carral.",
         "80163890",
         null
        ],
        [
         "110",
         null,
         "Movie",
         "Automata",
         "9/8/2017",
         "2014",
         "R",
         "In a dystopian future, an insurance adjuster for a tech company investigates a robot killed for violating protocol and discovers a global conspiracy.",
         "70304989",
         null
        ],
        [
         "60",
         null,
         "Movie",
         "Fabrizio Copano: Solo pienso en mi",
         "9/8/2017",
         "2017",
         "TV-MA",
         "Fabrizio Copano takes audience participation to the next level in this stand-up set while reflecting on sperm banks, family WhatsApp groups and more.",
         "80164077",
         null
        ],
        [
         null,
         "1",
         "TV Show",
         "Fire Chasers",
         "9/8/2017",
         "2017",
         "TV-MA",
         "As California's 2016 fire season rages, brave backcountry firefighters race to put out the flames, protect homes and save lives in this docuseries.",
         "80117902",
         null
        ],
        [
         "90",
         null,
         "Movie",
         "Good People",
         "9/8/2017",
         "2014",
         "R",
         "A struggling couple can't believe their luck when they find a stash of money in the apartment of a neighbor who was recently murdered.",
         "70304990",
         null
        ]
       ],
       "datasetInfos": [],
       "dbfsResultPath": null,
       "isJsonSchema": true,
       "metadata": {},
       "overflow": false,
       "plotOptions": {
        "customPlotOptions": {},
        "displayType": "table",
        "pivotAggregation": null,
        "pivotColumns": null,
        "xColumns": null,
        "yColumns": null
       },
       "removedWidgets": [],
       "schema": [
        {
         "metadata": "{}",
         "name": "duration_minutes",
         "type": "\"string\""
        },
        {
         "metadata": "{}",
         "name": "duration_seasons",
         "type": "\"string\""
        },
        {
         "metadata": "{}",
         "name": "type",
         "type": "\"string\""
        },
        {
         "metadata": "{}",
         "name": "title",
         "type": "\"string\""
        },
        {
         "metadata": "{}",
         "name": "date_added",
         "type": "\"string\""
        },
        {
         "metadata": "{}",
         "name": "release_year",
         "type": "\"string\""
        },
        {
         "metadata": "{}",
         "name": "rating",
         "type": "\"string\""
        },
        {
         "metadata": "{}",
         "name": "description",
         "type": "\"string\""
        },
        {
         "metadata": "{}",
         "name": "show_id",
         "type": "\"string\""
        },
        {
         "metadata": "{}",
         "name": "_rescued_data",
         "type": "\"string\""
        }
       ],
       "type": "table"
      }
     },
     "output_type": "display_data"
    }
   ],
   "source": [
    "df.limit(10).display()"
   ]
  },
  {
   "cell_type": "code",
   "execution_count": 0,
   "metadata": {
    "application/vnd.databricks.v1+cell": {
     "cellMetadata": {
      "byteLimit": 2048000,
      "rowLimit": 10000
     },
     "inputWidgets": {},
     "nuid": "e338c8c2-e314-4a0a-b17a-58002877ae74",
     "showTitle": false,
     "tableResultSettingsMap": {},
     "title": ""
    }
   },
   "outputs": [],
   "source": [
    "df = df.fillna({\"duration_minutes\" : 0, \"duration_seasons\":0})"
   ]
  },
  {
   "cell_type": "code",
   "execution_count": 0,
   "metadata": {
    "application/vnd.databricks.v1+cell": {
     "cellMetadata": {
      "byteLimit": 2048000,
      "rowLimit": 10000
     },
     "inputWidgets": {},
     "nuid": "9d7a2690-65f2-4021-86de-288c718f49a6",
     "showTitle": false,
     "tableResultSettingsMap": {},
     "title": ""
    }
   },
   "outputs": [],
   "source": [
    "df = df.withColumn(\"duration_minutes\",col('duration_minutes').cast(IntegerType()))\\\n",
    "        .withColumn(\"duration_seasons\",col('duration_seasons').cast(IntegerType()))"
   ]
  },
  {
   "cell_type": "code",
   "execution_count": 0,
   "metadata": {
    "application/vnd.databricks.v1+cell": {
     "cellMetadata": {
      "byteLimit": 2048000,
      "rowLimit": 10000
     },
     "inputWidgets": {},
     "nuid": "998961ea-04ee-446c-9973-7721716ff2e9",
     "showTitle": false,
     "tableResultSettingsMap": {},
     "title": ""
    }
   },
   "outputs": [
    {
     "output_type": "stream",
     "name": "stdout",
     "output_type": "stream",
     "text": [
      "root\n |-- duration_minutes: integer (nullable = true)\n |-- duration_seasons: integer (nullable = true)\n |-- type: string (nullable = true)\n |-- title: string (nullable = true)\n |-- date_added: string (nullable = true)\n |-- release_year: string (nullable = true)\n |-- rating: string (nullable = true)\n |-- description: string (nullable = true)\n |-- show_id: string (nullable = true)\n |-- _rescued_data: string (nullable = true)\n\n"
     ]
    }
   ],
   "source": [
    "df.printSchema()"
   ]
  },
  {
   "cell_type": "code",
   "execution_count": 0,
   "metadata": {
    "application/vnd.databricks.v1+cell": {
     "cellMetadata": {
      "byteLimit": 2048000,
      "rowLimit": 10000
     },
     "inputWidgets": {},
     "nuid": "8f94554e-cf8b-4ebb-93da-07ef7177fc82",
     "showTitle": false,
     "tableResultSettingsMap": {},
     "title": ""
    }
   },
   "outputs": [
    {
     "output_type": "display_data",
     "data": {
      "text/html": [
       "<style scoped>\n",
       "  .table-result-container {\n",
       "    max-height: 300px;\n",
       "    overflow: auto;\n",
       "  }\n",
       "  table, th, td {\n",
       "    border: 1px solid black;\n",
       "    border-collapse: collapse;\n",
       "  }\n",
       "  th, td {\n",
       "    padding: 5px;\n",
       "  }\n",
       "  th {\n",
       "    text-align: left;\n",
       "  }\n",
       "</style><div class='table-result-container'><table class='table-result'><thead style='background-color: white'><tr><th>type</th><th>total_count</th></tr></thead><tbody><tr><td>null</td><td>1</td></tr><tr><td>TV Show</td><td>1969</td></tr><tr><td>Movie</td><td>4265</td></tr><tr><td>1944</td><td>1</td></tr></tbody></table></div>"
      ]
     },
     "metadata": {
      "application/vnd.databricks.v1+output": {
       "addedWidgets": {},
       "aggData": [],
       "aggError": "",
       "aggOverflow": false,
       "aggSchema": [],
       "aggSeriesLimitReached": false,
       "aggType": "",
       "arguments": {},
       "columnCustomDisplayInfos": {},
       "data": [
        [
         null,
         1
        ],
        [
         "TV Show",
         1969
        ],
        [
         "Movie",
         4265
        ],
        [
         "1944",
         1
        ]
       ],
       "datasetInfos": [],
       "dbfsResultPath": null,
       "isJsonSchema": true,
       "metadata": {},
       "overflow": false,
       "plotOptions": {
        "customPlotOptions": {},
        "displayType": "table",
        "pivotAggregation": null,
        "pivotColumns": null,
        "xColumns": null,
        "yColumns": null
       },
       "removedWidgets": [],
       "schema": [
        {
         "metadata": "{}",
         "name": "type",
         "type": "\"string\""
        },
        {
         "metadata": "{}",
         "name": "total_count",
         "type": "\"long\""
        }
       ],
       "type": "table"
      }
     },
     "output_type": "display_data"
    },
    {
     "output_type": "display_data",
     "data": {
      "text/plain": [
       "Databricks visualization. Run in Databricks to view."
      ]
     },
     "metadata": {
      "application/vnd.databricks.v1.subcommand+json": {
       "baseErrorDetails": null,
       "bindings": {},
       "collapsed": false,
       "command": "%python\n__backend_agg_display_orig = display\n__backend_agg_dfs = []\ndef __backend_agg_display_new(df):\n    __backend_agg_df_modules = [\"pandas.core.frame\", \"databricks.koalas.frame\", \"pyspark.sql.dataframe\", \"pyspark.pandas.frame\", \"pyspark.sql.connect.dataframe\"]\n    if (type(df).__module__ in __backend_agg_df_modules and type(df).__name__ == 'DataFrame') or isinstance(df, list):\n        __backend_agg_dfs.append(df)\n\ndisplay = __backend_agg_display_new\n\ndef __backend_agg_user_code_fn():\n    import base64\n    exec(base64.standard_b64decode(\"ZGYgPSBkZi5ncm91cEJ5KCJ0eXBlIikuYWdnKGNvdW50KCIqIikuYWxpYXMoInRvdGFsX2NvdW50IikpCmRpc3BsYXkoZGYp\").decode())\n\ntry:\n    # run user code\n    __backend_agg_user_code_fn()\n\n    #reset display function\n    display = __backend_agg_display_orig\n\n    if len(__backend_agg_dfs) > 0:\n        # create a temp view\n        if type(__backend_agg_dfs[0]).__module__ == \"databricks.koalas.frame\":\n            # koalas dataframe\n            __backend_agg_dfs[0].to_spark().createOrReplaceTempView(\"DatabricksView4a1a870\")\n        elif type(__backend_agg_dfs[0]).__module__ == \"pandas.core.frame\" or isinstance(__backend_agg_dfs[0], list):\n            # pandas dataframe\n            spark.createDataFrame(__backend_agg_dfs[0]).createOrReplaceTempView(\"DatabricksView4a1a870\")\n        else:\n            __backend_agg_dfs[0].createOrReplaceTempView(\"DatabricksView4a1a870\")\n        #run backend agg\n        display(spark.sql(\"\"\"WITH q AS (select * from DatabricksView4a1a870) SELECT `type`,SUM(`total_count`) `column_a91218a4224` FROM q GROUP BY `type`\"\"\"))\n    else:\n        displayHTML(\"dataframe no longer exists. If you're using dataframe.display(), use display(dataframe) instead.\")\n\n\nfinally:\n    spark.sql(\"drop view if exists DatabricksView4a1a870\")\n    display = __backend_agg_display_orig\n    del __backend_agg_display_new\n    del __backend_agg_display_orig\n    del __backend_agg_dfs\n    del __backend_agg_user_code_fn\n\n",
       "commandTitle": "Visualization 1",
       "commandType": "auto",
       "commandVersion": 0,
       "commentThread": [],
       "commentsVisible": false,
       "contentSha256Hex": null,
       "customPlotOptions": {
        "redashChart": [
         {
          "key": "type",
          "value": "CHART"
         },
         {
          "key": "options",
          "value": {
           "alignYAxesAtZero": true,
           "coefficient": 1,
           "columnConfigurationMap": {
            "x": {
             "column": "type",
             "id": "column_a91218a4223"
            },
            "y": [
             {
              "column": "total_count",
              "id": "column_a91218a4224",
              "transform": "SUM"
             }
            ]
           },
           "dateTimeFormat": "DD/MM/YYYY HH:mm",
           "direction": {
            "type": "counterclockwise"
           },
           "error_y": {
            "type": "data",
            "visible": true
           },
           "globalSeriesType": "pie",
           "legend": {
            "traceorder": "normal"
           },
           "missingValuesAsZero": true,
           "numberFormat": "0,0.[00000]",
           "percentFormat": "0[.]00%",
           "series": {
            "error_y": {
             "type": "data",
             "visible": true
            },
            "stacking": null
           },
           "seriesOptions": {
            "column_a91218a4224": {
             "name": "total_count",
             "type": "pie",
             "yAxis": 0
            }
           },
           "showDataLabels": true,
           "sizemode": "diameter",
           "sortX": true,
           "sortY": true,
           "swappedAxes": false,
           "textFormat": "",
           "useAggregationsUi": true,
           "valuesOptions": {},
           "version": 2,
           "xAxis": {
            "labels": {
             "enabled": true
            },
            "type": "-"
           },
           "yAxis": [
            {
             "type": "-"
            },
            {
             "opposite": true,
             "type": "-"
            }
           ]
          }
         }
        ]
       },
       "datasetPreviewNameToCmdIdMap": {},
       "diffDeletes": [],
       "diffInserts": [],
       "displayType": "redashChart",
       "error": null,
       "errorDetails": null,
       "errorSummary": null,
       "errorTraceType": null,
       "finishTime": 0,
       "globalVars": {},
       "guid": "",
       "height": "auto",
       "hideCommandCode": false,
       "hideCommandResult": false,
       "iPythonMetadata": null,
       "inputWidgets": {},
       "isLockedInExamMode": false,
       "latestUser": "a user",
       "latestUserId": null,
       "listResultMetadata": null,
       "metadata": {},
       "nuid": "ba9437ed-62b3-4202-be51-014e03723366",
       "origId": 0,
       "parentHierarchy": [],
       "pivotAggregation": null,
       "pivotColumns": null,
       "position": 22.0,
       "resultDbfsErrorMessage": null,
       "resultDbfsStatus": "INLINED_IN_TREE",
       "results": null,
       "showCommandTitle": false,
       "startTime": 0,
       "state": "input",
       "streamStates": {},
       "subcommandOptions": {
        "queryPlan": {
         "groups": [
          {
           "column": "type",
           "type": "column"
          }
         ],
         "selects": [
          {
           "column": "type",
           "type": "column"
          },
          {
           "alias": "column_a91218a4224",
           "args": [
            {
             "column": "total_count",
             "type": "column"
            }
           ],
           "function": "SUM",
           "type": "function"
          }
         ]
        }
       },
       "submitTime": 0,
       "subtype": "tableResultSubCmd.visualization",
       "tableResultIndex": 0,
       "tableResultSettingsMap": {},
       "useConsistentColors": false,
       "version": "CommandV1",
       "width": "auto",
       "workflows": [],
       "xColumns": null,
       "yColumns": null
      }
     },
     "output_type": "display_data"
    }
   ],
   "source": [
    "df_vis = df.groupBy(\"type\").agg(count(\"*\").alias(\"total_count\"))\n",
    "display(df_vis)"
   ]
  },
  {
   "cell_type": "code",
   "execution_count": 0,
   "metadata": {
    "application/vnd.databricks.v1+cell": {
     "cellMetadata": {
      "byteLimit": 2048000,
      "rowLimit": 10000
     },
     "inputWidgets": {},
     "nuid": "486f9190-1a60-41c8-b3be-e7b7b538fc57",
     "showTitle": false,
     "tableResultSettingsMap": {},
     "title": ""
    }
   },
   "outputs": [
    {
     "output_type": "display_data",
     "data": {
      "text/html": [
       "<style scoped>\n",
       "  .table-result-container {\n",
       "    max-height: 300px;\n",
       "    overflow: auto;\n",
       "  }\n",
       "  table, th, td {\n",
       "    border: 1px solid black;\n",
       "    border-collapse: collapse;\n",
       "  }\n",
       "  th, td {\n",
       "    padding: 5px;\n",
       "  }\n",
       "  th {\n",
       "    text-align: left;\n",
       "  }\n",
       "</style><div class='table-result-container'><table class='table-result'><thead style='background-color: white'><tr><th>duration_minutes</th><th>duration_seasons</th><th>type</th><th>title</th><th>date_added</th><th>release_year</th><th>rating</th><th>description</th><th>show_id</th><th>_rescued_data</th></tr></thead><tbody><tr><td>null</td><td>null</td><td>1944</td><td>TV-PG</td><td>This documentary centers on the crew of the B-17 Flying Fortress Memphis Belle as it prepares to execute a strategic bombing mission over Germany.</td><td>80119194</td><td>null</td><td>null</td><td>null</td><td>null</td></tr></tbody></table></div>"
      ]
     },
     "metadata": {
      "application/vnd.databricks.v1+output": {
       "addedWidgets": {},
       "aggData": [],
       "aggError": "",
       "aggOverflow": false,
       "aggSchema": [],
       "aggSeriesLimitReached": false,
       "aggType": "",
       "arguments": {},
       "columnCustomDisplayInfos": {},
       "data": [
        [
         null,
         null,
         "1944",
         "TV-PG",
         "This documentary centers on the crew of the B-17 Flying Fortress Memphis Belle as it prepares to execute a strategic bombing mission over Germany.",
         "80119194",
         null,
         null,
         null,
         null
        ]
       ],
       "datasetInfos": [],
       "dbfsResultPath": null,
       "isJsonSchema": true,
       "metadata": {},
       "overflow": false,
       "plotOptions": {
        "customPlotOptions": {},
        "displayType": "table",
        "pivotAggregation": null,
        "pivotColumns": null,
        "xColumns": null,
        "yColumns": null
       },
       "removedWidgets": [],
       "schema": [
        {
         "metadata": "{}",
         "name": "duration_minutes",
         "type": "\"integer\""
        },
        {
         "metadata": "{}",
         "name": "duration_seasons",
         "type": "\"integer\""
        },
        {
         "metadata": "{}",
         "name": "type",
         "type": "\"string\""
        },
        {
         "metadata": "{}",
         "name": "title",
         "type": "\"string\""
        },
        {
         "metadata": "{}",
         "name": "date_added",
         "type": "\"string\""
        },
        {
         "metadata": "{}",
         "name": "release_year",
         "type": "\"string\""
        },
        {
         "metadata": "{}",
         "name": "rating",
         "type": "\"string\""
        },
        {
         "metadata": "{}",
         "name": "description",
         "type": "\"string\""
        },
        {
         "metadata": "{}",
         "name": "show_id",
         "type": "\"string\""
        },
        {
         "metadata": "{}",
         "name": "_rescued_data",
         "type": "\"string\""
        }
       ],
       "type": "table"
      }
     },
     "output_type": "display_data"
    }
   ],
   "source": [
    "df_type_errors = df.filter(~df.type.isin('Movie', 'TV Show'))\n",
    "df_type_errors.display()"
   ]
  },
  {
   "cell_type": "code",
   "execution_count": 0,
   "metadata": {
    "application/vnd.databricks.v1+cell": {
     "cellMetadata": {
      "byteLimit": 2048000,
      "rowLimit": 10000
     },
     "inputWidgets": {},
     "nuid": "124f5046-a231-4a6e-b5ab-6696ad07f42b",
     "showTitle": false,
     "tableResultSettingsMap": {},
     "title": ""
    }
   },
   "outputs": [
    {
     "output_type": "display_data",
     "data": {
      "text/html": [
       "<style scoped>\n",
       "  .table-result-container {\n",
       "    max-height: 300px;\n",
       "    overflow: auto;\n",
       "  }\n",
       "  table, th, td {\n",
       "    border: 1px solid black;\n",
       "    border-collapse: collapse;\n",
       "  }\n",
       "  th, td {\n",
       "    padding: 5px;\n",
       "  }\n",
       "  th {\n",
       "    text-align: left;\n",
       "  }\n",
       "</style><div class='table-result-container'><table class='table-result'><thead style='background-color: white'><tr><th>type</th><th>total_count</th></tr></thead><tbody><tr><td>TV Show</td><td>1969</td></tr><tr><td>Movie</td><td>4265</td></tr></tbody></table></div>"
      ]
     },
     "metadata": {
      "application/vnd.databricks.v1+output": {
       "addedWidgets": {},
       "aggData": [],
       "aggError": "",
       "aggOverflow": false,
       "aggSchema": [],
       "aggSeriesLimitReached": false,
       "aggType": "",
       "arguments": {},
       "columnCustomDisplayInfos": {},
       "data": [
        [
         "TV Show",
         1969
        ],
        [
         "Movie",
         4265
        ]
       ],
       "datasetInfos": [],
       "dbfsResultPath": null,
       "isJsonSchema": true,
       "metadata": {},
       "overflow": false,
       "plotOptions": {
        "customPlotOptions": {},
        "displayType": "table",
        "pivotAggregation": null,
        "pivotColumns": null,
        "xColumns": null,
        "yColumns": null
       },
       "removedWidgets": [],
       "schema": [
        {
         "metadata": "{}",
         "name": "type",
         "type": "\"string\""
        },
        {
         "metadata": "{}",
         "name": "total_count",
         "type": "\"long\""
        }
       ],
       "type": "table"
      }
     },
     "output_type": "display_data"
    }
   ],
   "source": [
    "df = df.where(df.type.isin('Movie', 'TV Show'))\n",
    "df_vis = df.groupBy(\"type\").agg(count(\"*\").alias(\"total_count\"))\n",
    "display(df_vis)"
   ]
  },
  {
   "cell_type": "code",
   "execution_count": 0,
   "metadata": {
    "application/vnd.databricks.v1+cell": {
     "cellMetadata": {
      "byteLimit": 2048000,
      "rowLimit": 10000
     },
     "inputWidgets": {},
     "nuid": "911dd88f-1306-45ca-a31e-53d46ff4d10e",
     "showTitle": false,
     "tableResultSettingsMap": {},
     "title": ""
    }
   },
   "outputs": [
    {
     "output_type": "display_data",
     "data": {
      "text/html": [
       "<style scoped>\n",
       "  .table-result-container {\n",
       "    max-height: 300px;\n",
       "    overflow: auto;\n",
       "  }\n",
       "  table, th, td {\n",
       "    border: 1px solid black;\n",
       "    border-collapse: collapse;\n",
       "  }\n",
       "  th, td {\n",
       "    padding: 5px;\n",
       "  }\n",
       "  th {\n",
       "    text-align: left;\n",
       "  }\n",
       "</style><div class='table-result-container'><table class='table-result'><thead style='background-color: white'><tr><th>duration_minutes</th><th>duration_seasons</th><th>type</th><th>title</th><th>date_added</th><th>release_year</th><th>rating</th><th>description</th><th>show_id</th><th>_rescued_data</th><th>short_title</th></tr></thead><tbody><tr><td>90</td><td>0</td><td>Movie</td><td>Norm of the North: King Sized Adventure</td><td>9/9/2019</td><td>2019</td><td>TV-PG</td><td>Before planning an awesome wedding for his grandfather, a polar bear king must take back a stolen artifact from an evil archaeologist first.</td><td>81145628</td><td>null</td><td>Norm of the North</td></tr><tr><td>94</td><td>0</td><td>Movie</td><td>Jandino: Whatever it Takes</td><td>9/9/2016</td><td>2016</td><td>TV-MA</td><td>\"Jandino Asporaat riffs on the challenges of raising kids and serenades the audience with a rousing rendition of \"\"Sex on Fire\"\" in his comedy show.\"</td><td>80117401</td><td>null</td><td>Jandino</td></tr><tr><td>0</td><td>1</td><td>TV Show</td><td>Transformers Prime</td><td>9/8/2018</td><td>2013</td><td>TV-Y7-FV</td><td>With the help of three human allies, the Autobots once again protect Earth from the onslaught of the Decepticons and their leader, Megatron.</td><td>70234439</td><td>null</td><td>Transformers Prime</td></tr><tr><td>0</td><td>1</td><td>TV Show</td><td>Transformers: Robots in Disguise</td><td>9/8/2018</td><td>2016</td><td>TV-Y7</td><td>When a prison ship crash unleashes hundreds of Decepticons on Earth, Bumblebee leads a new Autobot force to protect humankind.</td><td>80058654</td><td>null</td><td>Transformers</td></tr><tr><td>99</td><td>0</td><td>Movie</td><td>#realityhigh</td><td>9/8/2017</td><td>2017</td><td>TV-14</td><td>When nerdy high schooler Dani finally attracts the interest of her longtime crush, she lands in the cross hairs of his ex, a social media celebrity.</td><td>80125979</td><td>null</td><td>#realityhigh</td></tr><tr><td>0</td><td>1</td><td>TV Show</td><td>Apaches</td><td>9/8/2017</td><td>2016</td><td>TV-MA</td><td>A young journalist is forced into a life of crime to save his father and family in this series based on the novel by Miguel Sáez Carral.</td><td>80163890</td><td>null</td><td>Apaches</td></tr><tr><td>110</td><td>0</td><td>Movie</td><td>Automata</td><td>9/8/2017</td><td>2014</td><td>R</td><td>In a dystopian future, an insurance adjuster for a tech company investigates a robot killed for violating protocol and discovers a global conspiracy.</td><td>70304989</td><td>null</td><td>Automata</td></tr><tr><td>60</td><td>0</td><td>Movie</td><td>Fabrizio Copano: Solo pienso en mi</td><td>9/8/2017</td><td>2017</td><td>TV-MA</td><td>Fabrizio Copano takes audience participation to the next level in this stand-up set while reflecting on sperm banks, family WhatsApp groups and more.</td><td>80164077</td><td>null</td><td>Fabrizio Copano</td></tr><tr><td>0</td><td>1</td><td>TV Show</td><td>Fire Chasers</td><td>9/8/2017</td><td>2017</td><td>TV-MA</td><td>As California's 2016 fire season rages, brave backcountry firefighters race to put out the flames, protect homes and save lives in this docuseries.</td><td>80117902</td><td>null</td><td>Fire Chasers</td></tr><tr><td>90</td><td>0</td><td>Movie</td><td>Good People</td><td>9/8/2017</td><td>2014</td><td>R</td><td>A struggling couple can't believe their luck when they find a stash of money in the apartment of a neighbor who was recently murdered.</td><td>70304990</td><td>null</td><td>Good People</td></tr></tbody></table></div>"
      ]
     },
     "metadata": {
      "application/vnd.databricks.v1+output": {
       "addedWidgets": {},
       "aggData": [],
       "aggError": "",
       "aggOverflow": false,
       "aggSchema": [],
       "aggSeriesLimitReached": false,
       "aggType": "",
       "arguments": {},
       "columnCustomDisplayInfos": {},
       "data": [
        [
         90,
         0,
         "Movie",
         "Norm of the North: King Sized Adventure",
         "9/9/2019",
         "2019",
         "TV-PG",
         "Before planning an awesome wedding for his grandfather, a polar bear king must take back a stolen artifact from an evil archaeologist first.",
         "81145628",
         null,
         "Norm of the North"
        ],
        [
         94,
         0,
         "Movie",
         "Jandino: Whatever it Takes",
         "9/9/2016",
         "2016",
         "TV-MA",
         "\"Jandino Asporaat riffs on the challenges of raising kids and serenades the audience with a rousing rendition of \"\"Sex on Fire\"\" in his comedy show.\"",
         "80117401",
         null,
         "Jandino"
        ],
        [
         0,
         1,
         "TV Show",
         "Transformers Prime",
         "9/8/2018",
         "2013",
         "TV-Y7-FV",
         "With the help of three human allies, the Autobots once again protect Earth from the onslaught of the Decepticons and their leader, Megatron.",
         "70234439",
         null,
         "Transformers Prime"
        ],
        [
         0,
         1,
         "TV Show",
         "Transformers: Robots in Disguise",
         "9/8/2018",
         "2016",
         "TV-Y7",
         "When a prison ship crash unleashes hundreds of Decepticons on Earth, Bumblebee leads a new Autobot force to protect humankind.",
         "80058654",
         null,
         "Transformers"
        ],
        [
         99,
         0,
         "Movie",
         "#realityhigh",
         "9/8/2017",
         "2017",
         "TV-14",
         "When nerdy high schooler Dani finally attracts the interest of her longtime crush, she lands in the cross hairs of his ex, a social media celebrity.",
         "80125979",
         null,
         "#realityhigh"
        ],
        [
         0,
         1,
         "TV Show",
         "Apaches",
         "9/8/2017",
         "2016",
         "TV-MA",
         "A young journalist is forced into a life of crime to save his father and family in this series based on the novel by Miguel Sáez Carral.",
         "80163890",
         null,
         "Apaches"
        ],
        [
         110,
         0,
         "Movie",
         "Automata",
         "9/8/2017",
         "2014",
         "R",
         "In a dystopian future, an insurance adjuster for a tech company investigates a robot killed for violating protocol and discovers a global conspiracy.",
         "70304989",
         null,
         "Automata"
        ],
        [
         60,
         0,
         "Movie",
         "Fabrizio Copano: Solo pienso en mi",
         "9/8/2017",
         "2017",
         "TV-MA",
         "Fabrizio Copano takes audience participation to the next level in this stand-up set while reflecting on sperm banks, family WhatsApp groups and more.",
         "80164077",
         null,
         "Fabrizio Copano"
        ],
        [
         0,
         1,
         "TV Show",
         "Fire Chasers",
         "9/8/2017",
         "2017",
         "TV-MA",
         "As California's 2016 fire season rages, brave backcountry firefighters race to put out the flames, protect homes and save lives in this docuseries.",
         "80117902",
         null,
         "Fire Chasers"
        ],
        [
         90,
         0,
         "Movie",
         "Good People",
         "9/8/2017",
         "2014",
         "R",
         "A struggling couple can't believe their luck when they find a stash of money in the apartment of a neighbor who was recently murdered.",
         "70304990",
         null,
         "Good People"
        ]
       ],
       "datasetInfos": [],
       "dbfsResultPath": null,
       "isJsonSchema": true,
       "metadata": {},
       "overflow": false,
       "plotOptions": {
        "customPlotOptions": {},
        "displayType": "table",
        "pivotAggregation": null,
        "pivotColumns": null,
        "xColumns": null,
        "yColumns": null
       },
       "removedWidgets": [],
       "schema": [
        {
         "metadata": "{}",
         "name": "duration_minutes",
         "type": "\"integer\""
        },
        {
         "metadata": "{}",
         "name": "duration_seasons",
         "type": "\"integer\""
        },
        {
         "metadata": "{}",
         "name": "type",
         "type": "\"string\""
        },
        {
         "metadata": "{}",
         "name": "title",
         "type": "\"string\""
        },
        {
         "metadata": "{}",
         "name": "date_added",
         "type": "\"string\""
        },
        {
         "metadata": "{}",
         "name": "release_year",
         "type": "\"string\""
        },
        {
         "metadata": "{}",
         "name": "rating",
         "type": "\"string\""
        },
        {
         "metadata": "{}",
         "name": "description",
         "type": "\"string\""
        },
        {
         "metadata": "{}",
         "name": "show_id",
         "type": "\"string\""
        },
        {
         "metadata": "{}",
         "name": "_rescued_data",
         "type": "\"string\""
        },
        {
         "metadata": "{}",
         "name": "short_title",
         "type": "\"string\""
        }
       ],
       "type": "table"
      }
     },
     "output_type": "display_data"
    }
   ],
   "source": [
    "df = df.withColumn(\"short_title\",split(col('title'),':')[0])\n",
    "df.limit(10).display()"
   ]
  },
  {
   "cell_type": "code",
   "execution_count": 0,
   "metadata": {
    "application/vnd.databricks.v1+cell": {
     "cellMetadata": {
      "byteLimit": 2048000,
      "rowLimit": 10000
     },
     "inputWidgets": {},
     "nuid": "a177a605-f2a0-4e1d-a5d6-d4d7c9566bf6",
     "showTitle": false,
     "tableResultSettingsMap": {},
     "title": ""
    }
   },
   "outputs": [
    {
     "output_type": "display_data",
     "data": {
      "text/html": [
       "<style scoped>\n",
       "  .table-result-container {\n",
       "    max-height: 300px;\n",
       "    overflow: auto;\n",
       "  }\n",
       "  table, th, td {\n",
       "    border: 1px solid black;\n",
       "    border-collapse: collapse;\n",
       "  }\n",
       "  th, td {\n",
       "    padding: 5px;\n",
       "  }\n",
       "  th {\n",
       "    text-align: left;\n",
       "  }\n",
       "</style><div class='table-result-container'><table class='table-result'><thead style='background-color: white'><tr><th>duration_minutes</th><th>duration_seasons</th><th>type</th><th>title</th><th>date_added</th><th>release_year</th><th>rating</th><th>description</th><th>show_id</th><th>_rescued_data</th><th>short_title</th></tr></thead><tbody><tr><td>90</td><td>0</td><td>Movie</td><td>Norm of the North: King Sized Adventure</td><td>9/9/2019</td><td>2019</td><td>PG</td><td>Before planning an awesome wedding for his grandfather, a polar bear king must take back a stolen artifact from an evil archaeologist first.</td><td>81145628</td><td>null</td><td>Norm of the North</td></tr><tr><td>94</td><td>0</td><td>Movie</td><td>Jandino: Whatever it Takes</td><td>9/9/2016</td><td>2016</td><td>MA</td><td>\"Jandino Asporaat riffs on the challenges of raising kids and serenades the audience with a rousing rendition of \"\"Sex on Fire\"\" in his comedy show.\"</td><td>80117401</td><td>null</td><td>Jandino</td></tr><tr><td>0</td><td>1</td><td>TV Show</td><td>Transformers Prime</td><td>9/8/2018</td><td>2013</td><td>Y7</td><td>With the help of three human allies, the Autobots once again protect Earth from the onslaught of the Decepticons and their leader, Megatron.</td><td>70234439</td><td>null</td><td>Transformers Prime</td></tr><tr><td>0</td><td>1</td><td>TV Show</td><td>Transformers: Robots in Disguise</td><td>9/8/2018</td><td>2016</td><td>Y7</td><td>When a prison ship crash unleashes hundreds of Decepticons on Earth, Bumblebee leads a new Autobot force to protect humankind.</td><td>80058654</td><td>null</td><td>Transformers</td></tr><tr><td>99</td><td>0</td><td>Movie</td><td>#realityhigh</td><td>9/8/2017</td><td>2017</td><td>14</td><td>When nerdy high schooler Dani finally attracts the interest of her longtime crush, she lands in the cross hairs of his ex, a social media celebrity.</td><td>80125979</td><td>null</td><td>#realityhigh</td></tr><tr><td>0</td><td>1</td><td>TV Show</td><td>Apaches</td><td>9/8/2017</td><td>2016</td><td>MA</td><td>A young journalist is forced into a life of crime to save his father and family in this series based on the novel by Miguel Sáez Carral.</td><td>80163890</td><td>null</td><td>Apaches</td></tr><tr><td>110</td><td>0</td><td>Movie</td><td>Automata</td><td>9/8/2017</td><td>2014</td><td>R</td><td>In a dystopian future, an insurance adjuster for a tech company investigates a robot killed for violating protocol and discovers a global conspiracy.</td><td>70304989</td><td>null</td><td>Automata</td></tr><tr><td>60</td><td>0</td><td>Movie</td><td>Fabrizio Copano: Solo pienso en mi</td><td>9/8/2017</td><td>2017</td><td>MA</td><td>Fabrizio Copano takes audience participation to the next level in this stand-up set while reflecting on sperm banks, family WhatsApp groups and more.</td><td>80164077</td><td>null</td><td>Fabrizio Copano</td></tr><tr><td>0</td><td>1</td><td>TV Show</td><td>Fire Chasers</td><td>9/8/2017</td><td>2017</td><td>MA</td><td>As California's 2016 fire season rages, brave backcountry firefighters race to put out the flames, protect homes and save lives in this docuseries.</td><td>80117902</td><td>null</td><td>Fire Chasers</td></tr><tr><td>90</td><td>0</td><td>Movie</td><td>Good People</td><td>9/8/2017</td><td>2014</td><td>R</td><td>A struggling couple can't believe their luck when they find a stash of money in the apartment of a neighbor who was recently murdered.</td><td>70304990</td><td>null</td><td>Good People</td></tr></tbody></table></div>"
      ]
     },
     "metadata": {
      "application/vnd.databricks.v1+output": {
       "addedWidgets": {},
       "aggData": [],
       "aggError": "",
       "aggOverflow": false,
       "aggSchema": [],
       "aggSeriesLimitReached": false,
       "aggType": "",
       "arguments": {},
       "columnCustomDisplayInfos": {},
       "data": [
        [
         90,
         0,
         "Movie",
         "Norm of the North: King Sized Adventure",
         "9/9/2019",
         "2019",
         "PG",
         "Before planning an awesome wedding for his grandfather, a polar bear king must take back a stolen artifact from an evil archaeologist first.",
         "81145628",
         null,
         "Norm of the North"
        ],
        [
         94,
         0,
         "Movie",
         "Jandino: Whatever it Takes",
         "9/9/2016",
         "2016",
         "MA",
         "\"Jandino Asporaat riffs on the challenges of raising kids and serenades the audience with a rousing rendition of \"\"Sex on Fire\"\" in his comedy show.\"",
         "80117401",
         null,
         "Jandino"
        ],
        [
         0,
         1,
         "TV Show",
         "Transformers Prime",
         "9/8/2018",
         "2013",
         "Y7",
         "With the help of three human allies, the Autobots once again protect Earth from the onslaught of the Decepticons and their leader, Megatron.",
         "70234439",
         null,
         "Transformers Prime"
        ],
        [
         0,
         1,
         "TV Show",
         "Transformers: Robots in Disguise",
         "9/8/2018",
         "2016",
         "Y7",
         "When a prison ship crash unleashes hundreds of Decepticons on Earth, Bumblebee leads a new Autobot force to protect humankind.",
         "80058654",
         null,
         "Transformers"
        ],
        [
         99,
         0,
         "Movie",
         "#realityhigh",
         "9/8/2017",
         "2017",
         "14",
         "When nerdy high schooler Dani finally attracts the interest of her longtime crush, she lands in the cross hairs of his ex, a social media celebrity.",
         "80125979",
         null,
         "#realityhigh"
        ],
        [
         0,
         1,
         "TV Show",
         "Apaches",
         "9/8/2017",
         "2016",
         "MA",
         "A young journalist is forced into a life of crime to save his father and family in this series based on the novel by Miguel Sáez Carral.",
         "80163890",
         null,
         "Apaches"
        ],
        [
         110,
         0,
         "Movie",
         "Automata",
         "9/8/2017",
         "2014",
         "R",
         "In a dystopian future, an insurance adjuster for a tech company investigates a robot killed for violating protocol and discovers a global conspiracy.",
         "70304989",
         null,
         "Automata"
        ],
        [
         60,
         0,
         "Movie",
         "Fabrizio Copano: Solo pienso en mi",
         "9/8/2017",
         "2017",
         "MA",
         "Fabrizio Copano takes audience participation to the next level in this stand-up set while reflecting on sperm banks, family WhatsApp groups and more.",
         "80164077",
         null,
         "Fabrizio Copano"
        ],
        [
         0,
         1,
         "TV Show",
         "Fire Chasers",
         "9/8/2017",
         "2017",
         "MA",
         "As California's 2016 fire season rages, brave backcountry firefighters race to put out the flames, protect homes and save lives in this docuseries.",
         "80117902",
         null,
         "Fire Chasers"
        ],
        [
         90,
         0,
         "Movie",
         "Good People",
         "9/8/2017",
         "2014",
         "R",
         "A struggling couple can't believe their luck when they find a stash of money in the apartment of a neighbor who was recently murdered.",
         "70304990",
         null,
         "Good People"
        ]
       ],
       "datasetInfos": [],
       "dbfsResultPath": null,
       "isJsonSchema": true,
       "metadata": {},
       "overflow": false,
       "plotOptions": {
        "customPlotOptions": {},
        "displayType": "table",
        "pivotAggregation": null,
        "pivotColumns": null,
        "xColumns": null,
        "yColumns": null
       },
       "removedWidgets": [],
       "schema": [
        {
         "metadata": "{}",
         "name": "duration_minutes",
         "type": "\"integer\""
        },
        {
         "metadata": "{}",
         "name": "duration_seasons",
         "type": "\"integer\""
        },
        {
         "metadata": "{}",
         "name": "type",
         "type": "\"string\""
        },
        {
         "metadata": "{}",
         "name": "title",
         "type": "\"string\""
        },
        {
         "metadata": "{}",
         "name": "date_added",
         "type": "\"string\""
        },
        {
         "metadata": "{}",
         "name": "release_year",
         "type": "\"string\""
        },
        {
         "metadata": "{}",
         "name": "rating",
         "type": "\"string\""
        },
        {
         "metadata": "{}",
         "name": "description",
         "type": "\"string\""
        },
        {
         "metadata": "{}",
         "name": "show_id",
         "type": "\"string\""
        },
        {
         "metadata": "{}",
         "name": "_rescued_data",
         "type": "\"string\""
        },
        {
         "metadata": "{}",
         "name": "short_title",
         "type": "\"string\""
        }
       ],
       "type": "table"
      }
     },
     "output_type": "display_data"
    }
   ],
   "source": [
    "df = df.withColumn(\"rating\",split(col('rating'),'-')[1])\\\n",
    "        .fillna({'rating': 'R'})\n",
    "df.limit(10).display()"
   ]
  },
  {
   "cell_type": "code",
   "execution_count": 0,
   "metadata": {
    "application/vnd.databricks.v1+cell": {
     "cellMetadata": {
      "byteLimit": 2048000,
      "rowLimit": 10000
     },
     "inputWidgets": {},
     "nuid": "09ab2c5b-92ec-4be0-adc7-daca2b916958",
     "showTitle": false,
     "tableResultSettingsMap": {},
     "title": ""
    }
   },
   "outputs": [
    {
     "output_type": "display_data",
     "data": {
      "text/html": [
       "<style scoped>\n",
       "  .table-result-container {\n",
       "    max-height: 300px;\n",
       "    overflow: auto;\n",
       "  }\n",
       "  table, th, td {\n",
       "    border: 1px solid black;\n",
       "    border-collapse: collapse;\n",
       "  }\n",
       "  th, td {\n",
       "    padding: 5px;\n",
       "  }\n",
       "  th {\n",
       "    text-align: left;\n",
       "  }\n",
       "</style><div class='table-result-container'><table class='table-result'><thead style='background-color: white'><tr><th>duration_minutes</th><th>duration_seasons</th><th>type</th><th>title</th><th>date_added</th><th>release_year</th><th>rating</th><th>description</th><th>show_id</th><th>_rescued_data</th><th>short_title</th><th>type_flag</th></tr></thead><tbody><tr><td>90</td><td>0</td><td>Movie</td><td>Norm of the North: King Sized Adventure</td><td>9/9/2019</td><td>2019</td><td>PG</td><td>Before planning an awesome wedding for his grandfather, a polar bear king must take back a stolen artifact from an evil archaeologist first.</td><td>81145628</td><td>null</td><td>Norm of the North</td><td>1</td></tr><tr><td>94</td><td>0</td><td>Movie</td><td>Jandino: Whatever it Takes</td><td>9/9/2016</td><td>2016</td><td>MA</td><td>\"Jandino Asporaat riffs on the challenges of raising kids and serenades the audience with a rousing rendition of \"\"Sex on Fire\"\" in his comedy show.\"</td><td>80117401</td><td>null</td><td>Jandino</td><td>1</td></tr><tr><td>0</td><td>1</td><td>TV Show</td><td>Transformers Prime</td><td>9/8/2018</td><td>2013</td><td>Y7</td><td>With the help of three human allies, the Autobots once again protect Earth from the onslaught of the Decepticons and their leader, Megatron.</td><td>70234439</td><td>null</td><td>Transformers Prime</td><td>2</td></tr><tr><td>0</td><td>1</td><td>TV Show</td><td>Transformers: Robots in Disguise</td><td>9/8/2018</td><td>2016</td><td>Y7</td><td>When a prison ship crash unleashes hundreds of Decepticons on Earth, Bumblebee leads a new Autobot force to protect humankind.</td><td>80058654</td><td>null</td><td>Transformers</td><td>2</td></tr><tr><td>99</td><td>0</td><td>Movie</td><td>#realityhigh</td><td>9/8/2017</td><td>2017</td><td>14</td><td>When nerdy high schooler Dani finally attracts the interest of her longtime crush, she lands in the cross hairs of his ex, a social media celebrity.</td><td>80125979</td><td>null</td><td>#realityhigh</td><td>1</td></tr><tr><td>0</td><td>1</td><td>TV Show</td><td>Apaches</td><td>9/8/2017</td><td>2016</td><td>MA</td><td>A young journalist is forced into a life of crime to save his father and family in this series based on the novel by Miguel Sáez Carral.</td><td>80163890</td><td>null</td><td>Apaches</td><td>2</td></tr><tr><td>110</td><td>0</td><td>Movie</td><td>Automata</td><td>9/8/2017</td><td>2014</td><td>R</td><td>In a dystopian future, an insurance adjuster for a tech company investigates a robot killed for violating protocol and discovers a global conspiracy.</td><td>70304989</td><td>null</td><td>Automata</td><td>1</td></tr><tr><td>60</td><td>0</td><td>Movie</td><td>Fabrizio Copano: Solo pienso en mi</td><td>9/8/2017</td><td>2017</td><td>MA</td><td>Fabrizio Copano takes audience participation to the next level in this stand-up set while reflecting on sperm banks, family WhatsApp groups and more.</td><td>80164077</td><td>null</td><td>Fabrizio Copano</td><td>1</td></tr><tr><td>0</td><td>1</td><td>TV Show</td><td>Fire Chasers</td><td>9/8/2017</td><td>2017</td><td>MA</td><td>As California's 2016 fire season rages, brave backcountry firefighters race to put out the flames, protect homes and save lives in this docuseries.</td><td>80117902</td><td>null</td><td>Fire Chasers</td><td>2</td></tr><tr><td>90</td><td>0</td><td>Movie</td><td>Good People</td><td>9/8/2017</td><td>2014</td><td>R</td><td>A struggling couple can't believe their luck when they find a stash of money in the apartment of a neighbor who was recently murdered.</td><td>70304990</td><td>null</td><td>Good People</td><td>1</td></tr></tbody></table></div>"
      ]
     },
     "metadata": {
      "application/vnd.databricks.v1+output": {
       "addedWidgets": {},
       "aggData": [],
       "aggError": "",
       "aggOverflow": false,
       "aggSchema": [],
       "aggSeriesLimitReached": false,
       "aggType": "",
       "arguments": {},
       "columnCustomDisplayInfos": {},
       "data": [
        [
         90,
         0,
         "Movie",
         "Norm of the North: King Sized Adventure",
         "9/9/2019",
         "2019",
         "PG",
         "Before planning an awesome wedding for his grandfather, a polar bear king must take back a stolen artifact from an evil archaeologist first.",
         "81145628",
         null,
         "Norm of the North",
         1
        ],
        [
         94,
         0,
         "Movie",
         "Jandino: Whatever it Takes",
         "9/9/2016",
         "2016",
         "MA",
         "\"Jandino Asporaat riffs on the challenges of raising kids and serenades the audience with a rousing rendition of \"\"Sex on Fire\"\" in his comedy show.\"",
         "80117401",
         null,
         "Jandino",
         1
        ],
        [
         0,
         1,
         "TV Show",
         "Transformers Prime",
         "9/8/2018",
         "2013",
         "Y7",
         "With the help of three human allies, the Autobots once again protect Earth from the onslaught of the Decepticons and their leader, Megatron.",
         "70234439",
         null,
         "Transformers Prime",
         2
        ],
        [
         0,
         1,
         "TV Show",
         "Transformers: Robots in Disguise",
         "9/8/2018",
         "2016",
         "Y7",
         "When a prison ship crash unleashes hundreds of Decepticons on Earth, Bumblebee leads a new Autobot force to protect humankind.",
         "80058654",
         null,
         "Transformers",
         2
        ],
        [
         99,
         0,
         "Movie",
         "#realityhigh",
         "9/8/2017",
         "2017",
         "14",
         "When nerdy high schooler Dani finally attracts the interest of her longtime crush, she lands in the cross hairs of his ex, a social media celebrity.",
         "80125979",
         null,
         "#realityhigh",
         1
        ],
        [
         0,
         1,
         "TV Show",
         "Apaches",
         "9/8/2017",
         "2016",
         "MA",
         "A young journalist is forced into a life of crime to save his father and family in this series based on the novel by Miguel Sáez Carral.",
         "80163890",
         null,
         "Apaches",
         2
        ],
        [
         110,
         0,
         "Movie",
         "Automata",
         "9/8/2017",
         "2014",
         "R",
         "In a dystopian future, an insurance adjuster for a tech company investigates a robot killed for violating protocol and discovers a global conspiracy.",
         "70304989",
         null,
         "Automata",
         1
        ],
        [
         60,
         0,
         "Movie",
         "Fabrizio Copano: Solo pienso en mi",
         "9/8/2017",
         "2017",
         "MA",
         "Fabrizio Copano takes audience participation to the next level in this stand-up set while reflecting on sperm banks, family WhatsApp groups and more.",
         "80164077",
         null,
         "Fabrizio Copano",
         1
        ],
        [
         0,
         1,
         "TV Show",
         "Fire Chasers",
         "9/8/2017",
         "2017",
         "MA",
         "As California's 2016 fire season rages, brave backcountry firefighters race to put out the flames, protect homes and save lives in this docuseries.",
         "80117902",
         null,
         "Fire Chasers",
         2
        ],
        [
         90,
         0,
         "Movie",
         "Good People",
         "9/8/2017",
         "2014",
         "R",
         "A struggling couple can't believe their luck when they find a stash of money in the apartment of a neighbor who was recently murdered.",
         "70304990",
         null,
         "Good People",
         1
        ]
       ],
       "datasetInfos": [],
       "dbfsResultPath": null,
       "isJsonSchema": true,
       "metadata": {},
       "overflow": false,
       "plotOptions": {
        "customPlotOptions": {},
        "displayType": "table",
        "pivotAggregation": null,
        "pivotColumns": null,
        "xColumns": null,
        "yColumns": null
       },
       "removedWidgets": [],
       "schema": [
        {
         "metadata": "{}",
         "name": "duration_minutes",
         "type": "\"integer\""
        },
        {
         "metadata": "{}",
         "name": "duration_seasons",
         "type": "\"integer\""
        },
        {
         "metadata": "{}",
         "name": "type",
         "type": "\"string\""
        },
        {
         "metadata": "{}",
         "name": "title",
         "type": "\"string\""
        },
        {
         "metadata": "{}",
         "name": "date_added",
         "type": "\"string\""
        },
        {
         "metadata": "{}",
         "name": "release_year",
         "type": "\"string\""
        },
        {
         "metadata": "{}",
         "name": "rating",
         "type": "\"string\""
        },
        {
         "metadata": "{}",
         "name": "description",
         "type": "\"string\""
        },
        {
         "metadata": "{}",
         "name": "show_id",
         "type": "\"string\""
        },
        {
         "metadata": "{}",
         "name": "_rescued_data",
         "type": "\"string\""
        },
        {
         "metadata": "{}",
         "name": "short_title",
         "type": "\"string\""
        },
        {
         "metadata": "{}",
         "name": "type_flag",
         "type": "\"integer\""
        }
       ],
       "type": "table"
      }
     },
     "output_type": "display_data"
    }
   ],
   "source": [
    "df = df.withColumn(\"type_flag\",when(col('type')=='Movie',1)\\\n",
    "                            .when(col('type')=='TV Show',2)\\\n",
    "                            .otherwise(0))\n",
    "df.limit(10).display()"
   ]
  },
  {
   "cell_type": "code",
   "execution_count": 0,
   "metadata": {
    "application/vnd.databricks.v1+cell": {
     "cellMetadata": {
      "byteLimit": 2048000,
      "rowLimit": 10000
     },
     "inputWidgets": {},
     "nuid": "079e83f1-5cb9-45d3-bae0-4681825df125",
     "showTitle": false,
     "tableResultSettingsMap": {},
     "title": ""
    }
   },
   "outputs": [],
   "source": [
    "df = df.withColumn(\"duration_ranking\",dense_rank().over(Window.orderBy(col('duration_minutes').desc())))"
   ]
  },
  {
   "cell_type": "code",
   "execution_count": 0,
   "metadata": {
    "application/vnd.databricks.v1+cell": {
     "cellMetadata": {
      "byteLimit": 2048000,
      "rowLimit": 10000
     },
     "inputWidgets": {},
     "nuid": "d2d53427-34d9-4c96-9a31-ba02388e14e9",
     "showTitle": false,
     "tableResultSettingsMap": {},
     "title": ""
    }
   },
   "outputs": [
    {
     "output_type": "display_data",
     "data": {
      "text/html": [
       "<style scoped>\n",
       "  .table-result-container {\n",
       "    max-height: 300px;\n",
       "    overflow: auto;\n",
       "  }\n",
       "  table, th, td {\n",
       "    border: 1px solid black;\n",
       "    border-collapse: collapse;\n",
       "  }\n",
       "  th, td {\n",
       "    padding: 5px;\n",
       "  }\n",
       "  th {\n",
       "    text-align: left;\n",
       "  }\n",
       "</style><div class='table-result-container'><table class='table-result'><thead style='background-color: white'><tr><th>duration_minutes</th><th>duration_seasons</th><th>type</th><th>title</th><th>date_added</th><th>release_year</th><th>rating</th><th>description</th><th>show_id</th><th>_rescued_data</th><th>short_title</th><th>type_flag</th><th>duration_ranking</th></tr></thead><tbody><tr><td>312</td><td>0</td><td>Movie</td><td>Black Mirror: Bandersnatch</td><td>12/28/2018</td><td>2018</td><td>MA</td><td>In 1984, a young programmer begins to question reality as he adapts a dark fantasy novel into a video game. A mind-bending tale with multiple endings.</td><td>80988062</td><td>null</td><td>Black Mirror</td><td>1</td><td>1</td></tr><tr><td>228</td><td>0</td><td>Movie</td><td>Sangam</td><td>12/31/2019</td><td>1964</td><td>14</td><td>Returning home from war after being assumed dead, a pilot weds the woman he has long loved, unaware that she had been planning to marry his best friend.</td><td>60002818</td><td>null</td><td>Sangam</td><td>1</td><td>2</td></tr><tr><td>224</td><td>0</td><td>Movie</td><td>Lagaan</td><td>12/8/2017</td><td>2001</td><td>R</td><td>In 1890s India, an arrogant British commander challenges the harshly taxed residents of Champaner to a high-stakes cricket match.</td><td>60020906</td><td>null</td><td>Lagaan</td><td>1</td><td>3</td></tr><tr><td>214</td><td>0</td><td>Movie</td><td>Jodhaa Akbar</td><td>10/1/2018</td><td>2008</td><td>14</td><td>In 16th-century India, what begins as a strategic alliance between a Mughal emperor and a Hindu princess becomes a genuine opportunity for true love.</td><td>70090035</td><td>null</td><td>Jodhaa Akbar</td><td>1</td><td>4</td></tr><tr><td>209</td><td>0</td><td>Movie</td><td>The Irishman</td><td>11/27/2019</td><td>2019</td><td>R</td><td>Hit man Frank Sheeran looks back at the secrets he kept as a loyal member of the Bufalino crime family in this acclaimed film from Martin Scorsese.</td><td>80175798</td><td>null</td><td>The Irishman</td><td>1</td><td>5</td></tr><tr><td>205</td><td>0</td><td>Movie</td><td>The Gospel of Luke</td><td>10/19/2018</td><td>2015</td><td>14</td><td>Word-for-word Bible texts of the entire book of Luke are narrated and re-enacted in this epic production of the Gospel's accounts of Jesus's life.</td><td>81035749</td><td>null</td><td>The Gospel of Luke</td><td>1</td><td>6</td></tr><tr><td>203</td><td>0</td><td>Movie</td><td>What's Your Raashee?</td><td>8/15/2018</td><td>2009</td><td>PG</td><td>To protect his family from ruin, Yogesh must marry his dream girl in only ten days, so he rushes into dating women with different astrological signs.</td><td>70123118</td><td>null</td><td>What's Your Raashee?</td><td>1</td><td>7</td></tr><tr><td>201</td><td>0</td><td>Movie</td><td>The Lord of the Rings: The Return of the King</td><td>1/1/2020</td><td>2003</td><td>13</td><td>Aragorn is revealed as the heir to the ancient kings as he, Gandalf and the other members of the broken fellowship struggle to save Gondor.</td><td>60004484</td><td>null</td><td>The Lord of the Rings</td><td>1</td><td>8</td></tr><tr><td>200</td><td>0</td><td>Movie</td><td>Doctor Zhivago</td><td>11/1/2019</td><td>1965</td><td>13</td><td>A young physician and his beautiful mistress get swept up in the danger and drama of the Bolshevik Revolution in this Oscar-winning epic.</td><td>449931</td><td>null</td><td>Doctor Zhivago</td><td>1</td><td>9</td></tr><tr><td>196</td><td>0</td><td>Movie</td><td>Elephants Dream 4 Hour</td><td>8/23/2018</td><td>2006</td><td>MA</td><td>Friends Proog and Emo live in a capricious, seemingly infinite machine with a sinister purpose in this experimental computer-animated short.</td><td>70274390</td><td>null</td><td>Elephants Dream 4 Hour</td><td>1</td><td>10</td></tr></tbody></table></div>"
      ]
     },
     "metadata": {
      "application/vnd.databricks.v1+output": {
       "addedWidgets": {},
       "aggData": [],
       "aggError": "",
       "aggOverflow": false,
       "aggSchema": [],
       "aggSeriesLimitReached": false,
       "aggType": "",
       "arguments": {},
       "columnCustomDisplayInfos": {},
       "data": [
        [
         312,
         0,
         "Movie",
         "Black Mirror: Bandersnatch",
         "12/28/2018",
         "2018",
         "MA",
         "In 1984, a young programmer begins to question reality as he adapts a dark fantasy novel into a video game. A mind-bending tale with multiple endings.",
         "80988062",
         null,
         "Black Mirror",
         1,
         1
        ],
        [
         228,
         0,
         "Movie",
         "Sangam",
         "12/31/2019",
         "1964",
         "14",
         "Returning home from war after being assumed dead, a pilot weds the woman he has long loved, unaware that she had been planning to marry his best friend.",
         "60002818",
         null,
         "Sangam",
         1,
         2
        ],
        [
         224,
         0,
         "Movie",
         "Lagaan",
         "12/8/2017",
         "2001",
         "R",
         "In 1890s India, an arrogant British commander challenges the harshly taxed residents of Champaner to a high-stakes cricket match.",
         "60020906",
         null,
         "Lagaan",
         1,
         3
        ],
        [
         214,
         0,
         "Movie",
         "Jodhaa Akbar",
         "10/1/2018",
         "2008",
         "14",
         "In 16th-century India, what begins as a strategic alliance between a Mughal emperor and a Hindu princess becomes a genuine opportunity for true love.",
         "70090035",
         null,
         "Jodhaa Akbar",
         1,
         4
        ],
        [
         209,
         0,
         "Movie",
         "The Irishman",
         "11/27/2019",
         "2019",
         "R",
         "Hit man Frank Sheeran looks back at the secrets he kept as a loyal member of the Bufalino crime family in this acclaimed film from Martin Scorsese.",
         "80175798",
         null,
         "The Irishman",
         1,
         5
        ],
        [
         205,
         0,
         "Movie",
         "The Gospel of Luke",
         "10/19/2018",
         "2015",
         "14",
         "Word-for-word Bible texts of the entire book of Luke are narrated and re-enacted in this epic production of the Gospel's accounts of Jesus's life.",
         "81035749",
         null,
         "The Gospel of Luke",
         1,
         6
        ],
        [
         203,
         0,
         "Movie",
         "What's Your Raashee?",
         "8/15/2018",
         "2009",
         "PG",
         "To protect his family from ruin, Yogesh must marry his dream girl in only ten days, so he rushes into dating women with different astrological signs.",
         "70123118",
         null,
         "What's Your Raashee?",
         1,
         7
        ],
        [
         201,
         0,
         "Movie",
         "The Lord of the Rings: The Return of the King",
         "1/1/2020",
         "2003",
         "13",
         "Aragorn is revealed as the heir to the ancient kings as he, Gandalf and the other members of the broken fellowship struggle to save Gondor.",
         "60004484",
         null,
         "The Lord of the Rings",
         1,
         8
        ],
        [
         200,
         0,
         "Movie",
         "Doctor Zhivago",
         "11/1/2019",
         "1965",
         "13",
         "A young physician and his beautiful mistress get swept up in the danger and drama of the Bolshevik Revolution in this Oscar-winning epic.",
         "449931",
         null,
         "Doctor Zhivago",
         1,
         9
        ],
        [
         196,
         0,
         "Movie",
         "Elephants Dream 4 Hour",
         "8/23/2018",
         "2006",
         "MA",
         "Friends Proog and Emo live in a capricious, seemingly infinite machine with a sinister purpose in this experimental computer-animated short.",
         "70274390",
         null,
         "Elephants Dream 4 Hour",
         1,
         10
        ]
       ],
       "datasetInfos": [],
       "dbfsResultPath": null,
       "isJsonSchema": true,
       "metadata": {},
       "overflow": false,
       "plotOptions": {
        "customPlotOptions": {},
        "displayType": "table",
        "pivotAggregation": null,
        "pivotColumns": null,
        "xColumns": null,
        "yColumns": null
       },
       "removedWidgets": [],
       "schema": [
        {
         "metadata": "{}",
         "name": "duration_minutes",
         "type": "\"integer\""
        },
        {
         "metadata": "{}",
         "name": "duration_seasons",
         "type": "\"integer\""
        },
        {
         "metadata": "{}",
         "name": "type",
         "type": "\"string\""
        },
        {
         "metadata": "{}",
         "name": "title",
         "type": "\"string\""
        },
        {
         "metadata": "{}",
         "name": "date_added",
         "type": "\"string\""
        },
        {
         "metadata": "{}",
         "name": "release_year",
         "type": "\"string\""
        },
        {
         "metadata": "{}",
         "name": "rating",
         "type": "\"string\""
        },
        {
         "metadata": "{}",
         "name": "description",
         "type": "\"string\""
        },
        {
         "metadata": "{}",
         "name": "show_id",
         "type": "\"string\""
        },
        {
         "metadata": "{}",
         "name": "_rescued_data",
         "type": "\"string\""
        },
        {
         "metadata": "{}",
         "name": "short_title",
         "type": "\"string\""
        },
        {
         "metadata": "{}",
         "name": "type_flag",
         "type": "\"integer\""
        },
        {
         "metadata": "{}",
         "name": "duration_ranking",
         "type": "\"integer\""
        }
       ],
       "type": "table"
      }
     },
     "output_type": "display_data"
    }
   ],
   "source": [
    "df.limit(10).display()"
   ]
  },
  {
   "cell_type": "code",
   "execution_count": 0,
   "metadata": {
    "application/vnd.databricks.v1+cell": {
     "cellMetadata": {
      "byteLimit": 2048000,
      "rowLimit": 10000
     },
     "inputWidgets": {},
     "nuid": "2f56e53b-d1a2-4af6-8a54-e5dc9b4cf9a1",
     "showTitle": false,
     "tableResultSettingsMap": {},
     "title": ""
    }
   },
   "outputs": [],
   "source": [
    "df.createOrReplaceTempView(\"temp_view\") #If we want to create views"
   ]
  },
  {
   "cell_type": "code",
   "execution_count": 0,
   "metadata": {
    "application/vnd.databricks.v1+cell": {
     "cellMetadata": {
      "byteLimit": 2048000,
      "rowLimit": 10000
     },
     "inputWidgets": {},
     "nuid": "bccb29ba-b3b0-4270-ae0f-f5d8fa2ee272",
     "showTitle": false,
     "tableResultSettingsMap": {},
     "title": ""
    }
   },
   "outputs": [],
   "source": [
    "df.createOrReplaceGlobalTempView(\"global_view\") #If we want to create a view for all notebooks"
   ]
  },
  {
   "cell_type": "code",
   "execution_count": 0,
   "metadata": {
    "application/vnd.databricks.v1+cell": {
     "cellMetadata": {
      "byteLimit": 2048000,
      "rowLimit": 10000
     },
     "inputWidgets": {},
     "nuid": "1e763035-a91d-4712-8563-01be26d21735",
     "showTitle": false,
     "tableResultSettingsMap": {},
     "title": ""
    }
   },
   "outputs": [],
   "source": [
    "df = spark.sql(\"\"\"\n",
    "                select * \n",
    "                from global_temp.global_view\n",
    "               \"\"\")"
   ]
  },
  {
   "cell_type": "code",
   "execution_count": 0,
   "metadata": {
    "application/vnd.databricks.v1+cell": {
     "cellMetadata": {
      "byteLimit": 2048000,
      "rowLimit": 10000
     },
     "inputWidgets": {},
     "nuid": "45ebeccc-6ef4-4cf0-a8af-b7905f785312",
     "showTitle": false,
     "tableResultSettingsMap": {},
     "title": ""
    }
   },
   "outputs": [
    {
     "output_type": "display_data",
     "data": {
      "text/html": [
       "<style scoped>\n",
       "  .table-result-container {\n",
       "    max-height: 300px;\n",
       "    overflow: auto;\n",
       "  }\n",
       "  table, th, td {\n",
       "    border: 1px solid black;\n",
       "    border-collapse: collapse;\n",
       "  }\n",
       "  th, td {\n",
       "    padding: 5px;\n",
       "  }\n",
       "  th {\n",
       "    text-align: left;\n",
       "  }\n",
       "</style><div class='table-result-container'><table class='table-result'><thead style='background-color: white'><tr><th>duration_minutes</th><th>duration_seasons</th><th>type</th><th>title</th><th>date_added</th><th>release_year</th><th>rating</th><th>description</th><th>show_id</th><th>_rescued_data</th><th>short_title</th><th>type_flag</th><th>duration_ranking</th></tr></thead><tbody><tr><td>312</td><td>0</td><td>Movie</td><td>Black Mirror: Bandersnatch</td><td>12/28/2018</td><td>2018</td><td>MA</td><td>In 1984, a young programmer begins to question reality as he adapts a dark fantasy novel into a video game. A mind-bending tale with multiple endings.</td><td>80988062</td><td>null</td><td>Black Mirror</td><td>1</td><td>1</td></tr><tr><td>228</td><td>0</td><td>Movie</td><td>Sangam</td><td>12/31/2019</td><td>1964</td><td>14</td><td>Returning home from war after being assumed dead, a pilot weds the woman he has long loved, unaware that she had been planning to marry his best friend.</td><td>60002818</td><td>null</td><td>Sangam</td><td>1</td><td>2</td></tr><tr><td>224</td><td>0</td><td>Movie</td><td>Lagaan</td><td>12/8/2017</td><td>2001</td><td>R</td><td>In 1890s India, an arrogant British commander challenges the harshly taxed residents of Champaner to a high-stakes cricket match.</td><td>60020906</td><td>null</td><td>Lagaan</td><td>1</td><td>3</td></tr><tr><td>214</td><td>0</td><td>Movie</td><td>Jodhaa Akbar</td><td>10/1/2018</td><td>2008</td><td>14</td><td>In 16th-century India, what begins as a strategic alliance between a Mughal emperor and a Hindu princess becomes a genuine opportunity for true love.</td><td>70090035</td><td>null</td><td>Jodhaa Akbar</td><td>1</td><td>4</td></tr><tr><td>209</td><td>0</td><td>Movie</td><td>The Irishman</td><td>11/27/2019</td><td>2019</td><td>R</td><td>Hit man Frank Sheeran looks back at the secrets he kept as a loyal member of the Bufalino crime family in this acclaimed film from Martin Scorsese.</td><td>80175798</td><td>null</td><td>The Irishman</td><td>1</td><td>5</td></tr><tr><td>205</td><td>0</td><td>Movie</td><td>The Gospel of Luke</td><td>10/19/2018</td><td>2015</td><td>14</td><td>Word-for-word Bible texts of the entire book of Luke are narrated and re-enacted in this epic production of the Gospel's accounts of Jesus's life.</td><td>81035749</td><td>null</td><td>The Gospel of Luke</td><td>1</td><td>6</td></tr><tr><td>203</td><td>0</td><td>Movie</td><td>What's Your Raashee?</td><td>8/15/2018</td><td>2009</td><td>PG</td><td>To protect his family from ruin, Yogesh must marry his dream girl in only ten days, so he rushes into dating women with different astrological signs.</td><td>70123118</td><td>null</td><td>What's Your Raashee?</td><td>1</td><td>7</td></tr><tr><td>201</td><td>0</td><td>Movie</td><td>The Lord of the Rings: The Return of the King</td><td>1/1/2020</td><td>2003</td><td>13</td><td>Aragorn is revealed as the heir to the ancient kings as he, Gandalf and the other members of the broken fellowship struggle to save Gondor.</td><td>60004484</td><td>null</td><td>The Lord of the Rings</td><td>1</td><td>8</td></tr><tr><td>200</td><td>0</td><td>Movie</td><td>Doctor Zhivago</td><td>11/1/2019</td><td>1965</td><td>13</td><td>A young physician and his beautiful mistress get swept up in the danger and drama of the Bolshevik Revolution in this Oscar-winning epic.</td><td>449931</td><td>null</td><td>Doctor Zhivago</td><td>1</td><td>9</td></tr><tr><td>196</td><td>0</td><td>Movie</td><td>Elephants Dream 4 Hour</td><td>8/23/2018</td><td>2006</td><td>MA</td><td>Friends Proog and Emo live in a capricious, seemingly infinite machine with a sinister purpose in this experimental computer-animated short.</td><td>70274390</td><td>null</td><td>Elephants Dream 4 Hour</td><td>1</td><td>10</td></tr></tbody></table></div>"
      ]
     },
     "metadata": {
      "application/vnd.databricks.v1+output": {
       "addedWidgets": {},
       "aggData": [],
       "aggError": "",
       "aggOverflow": false,
       "aggSchema": [],
       "aggSeriesLimitReached": false,
       "aggType": "",
       "arguments": {},
       "columnCustomDisplayInfos": {},
       "data": [
        [
         312,
         0,
         "Movie",
         "Black Mirror: Bandersnatch",
         "12/28/2018",
         "2018",
         "MA",
         "In 1984, a young programmer begins to question reality as he adapts a dark fantasy novel into a video game. A mind-bending tale with multiple endings.",
         "80988062",
         null,
         "Black Mirror",
         1,
         1
        ],
        [
         228,
         0,
         "Movie",
         "Sangam",
         "12/31/2019",
         "1964",
         "14",
         "Returning home from war after being assumed dead, a pilot weds the woman he has long loved, unaware that she had been planning to marry his best friend.",
         "60002818",
         null,
         "Sangam",
         1,
         2
        ],
        [
         224,
         0,
         "Movie",
         "Lagaan",
         "12/8/2017",
         "2001",
         "R",
         "In 1890s India, an arrogant British commander challenges the harshly taxed residents of Champaner to a high-stakes cricket match.",
         "60020906",
         null,
         "Lagaan",
         1,
         3
        ],
        [
         214,
         0,
         "Movie",
         "Jodhaa Akbar",
         "10/1/2018",
         "2008",
         "14",
         "In 16th-century India, what begins as a strategic alliance between a Mughal emperor and a Hindu princess becomes a genuine opportunity for true love.",
         "70090035",
         null,
         "Jodhaa Akbar",
         1,
         4
        ],
        [
         209,
         0,
         "Movie",
         "The Irishman",
         "11/27/2019",
         "2019",
         "R",
         "Hit man Frank Sheeran looks back at the secrets he kept as a loyal member of the Bufalino crime family in this acclaimed film from Martin Scorsese.",
         "80175798",
         null,
         "The Irishman",
         1,
         5
        ],
        [
         205,
         0,
         "Movie",
         "The Gospel of Luke",
         "10/19/2018",
         "2015",
         "14",
         "Word-for-word Bible texts of the entire book of Luke are narrated and re-enacted in this epic production of the Gospel's accounts of Jesus's life.",
         "81035749",
         null,
         "The Gospel of Luke",
         1,
         6
        ],
        [
         203,
         0,
         "Movie",
         "What's Your Raashee?",
         "8/15/2018",
         "2009",
         "PG",
         "To protect his family from ruin, Yogesh must marry his dream girl in only ten days, so he rushes into dating women with different astrological signs.",
         "70123118",
         null,
         "What's Your Raashee?",
         1,
         7
        ],
        [
         201,
         0,
         "Movie",
         "The Lord of the Rings: The Return of the King",
         "1/1/2020",
         "2003",
         "13",
         "Aragorn is revealed as the heir to the ancient kings as he, Gandalf and the other members of the broken fellowship struggle to save Gondor.",
         "60004484",
         null,
         "The Lord of the Rings",
         1,
         8
        ],
        [
         200,
         0,
         "Movie",
         "Doctor Zhivago",
         "11/1/2019",
         "1965",
         "13",
         "A young physician and his beautiful mistress get swept up in the danger and drama of the Bolshevik Revolution in this Oscar-winning epic.",
         "449931",
         null,
         "Doctor Zhivago",
         1,
         9
        ],
        [
         196,
         0,
         "Movie",
         "Elephants Dream 4 Hour",
         "8/23/2018",
         "2006",
         "MA",
         "Friends Proog and Emo live in a capricious, seemingly infinite machine with a sinister purpose in this experimental computer-animated short.",
         "70274390",
         null,
         "Elephants Dream 4 Hour",
         1,
         10
        ]
       ],
       "datasetInfos": [],
       "dbfsResultPath": null,
       "isJsonSchema": true,
       "metadata": {},
       "overflow": false,
       "plotOptions": {
        "customPlotOptions": {},
        "displayType": "table",
        "pivotAggregation": null,
        "pivotColumns": null,
        "xColumns": null,
        "yColumns": null
       },
       "removedWidgets": [],
       "schema": [
        {
         "metadata": "{}",
         "name": "duration_minutes",
         "type": "\"integer\""
        },
        {
         "metadata": "{}",
         "name": "duration_seasons",
         "type": "\"integer\""
        },
        {
         "metadata": "{}",
         "name": "type",
         "type": "\"string\""
        },
        {
         "metadata": "{}",
         "name": "title",
         "type": "\"string\""
        },
        {
         "metadata": "{}",
         "name": "date_added",
         "type": "\"string\""
        },
        {
         "metadata": "{}",
         "name": "release_year",
         "type": "\"string\""
        },
        {
         "metadata": "{}",
         "name": "rating",
         "type": "\"string\""
        },
        {
         "metadata": "{}",
         "name": "description",
         "type": "\"string\""
        },
        {
         "metadata": "{}",
         "name": "show_id",
         "type": "\"string\""
        },
        {
         "metadata": "{}",
         "name": "_rescued_data",
         "type": "\"string\""
        },
        {
         "metadata": "{}",
         "name": "short_title",
         "type": "\"string\""
        },
        {
         "metadata": "{}",
         "name": "type_flag",
         "type": "\"integer\""
        },
        {
         "metadata": "{}",
         "name": "duration_ranking",
         "type": "\"integer\""
        }
       ],
       "type": "table"
      }
     },
     "output_type": "display_data"
    }
   ],
   "source": [
    "df.limit(10).display()"
   ]
  },
  {
   "cell_type": "code",
   "execution_count": 0,
   "metadata": {
    "application/vnd.databricks.v1+cell": {
     "cellMetadata": {
      "byteLimit": 2048000,
      "rowLimit": 10000
     },
     "inputWidgets": {},
     "nuid": "0fbc5f75-5185-426e-9dda-59b86edb6593",
     "showTitle": false,
     "tableResultSettingsMap": {},
     "title": ""
    }
   },
   "outputs": [],
   "source": [
    "df.write.format(\"delta\")\\\n",
    "        .mode(\"overwrite\")\\\n",
    "        .option(\"path\",\"abfss://02-silver@project03storage.dfs.core.windows.net/netflix_titles\")\\\n",
    "        .save()"
   ]
  }
 ],
 "metadata": {
  "application/vnd.databricks.v1+notebook": {
   "computePreferences": null,
   "dashboards": [],
   "environmentMetadata": {
    "base_environment": "",
    "environment_version": "2"
   },
   "language": "python",
   "notebookMetadata": {
    "pythonIndentUnit": 4
   },
   "notebookName": "02_04_Silver_forEach",
   "widgets": {}
  },
  "language_info": {
   "name": "python"
  }
 },
 "nbformat": 4,
 "nbformat_minor": 0
}
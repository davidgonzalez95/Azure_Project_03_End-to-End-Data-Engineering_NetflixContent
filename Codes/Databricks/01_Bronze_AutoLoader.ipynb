{
 "cells": [
  {
   "cell_type": "markdown",
   "metadata": {
    "application/vnd.databricks.v1+cell": {
     "cellMetadata": {
      "byteLimit": 2048000,
      "rowLimit": 10000
     },
     "inputWidgets": {},
     "nuid": "f72da329-3450-4eec-b47d-674bc7599804",
     "showTitle": false,
     "tableResultSettingsMap": {},
     "title": ""
    }
   },
   "source": [
    "# Incremental Data Loading using AutoLoader"
   ]
  },
  {
   "cell_type": "code",
   "execution_count": 0,
   "metadata": {
    "application/vnd.databricks.v1+cell": {
     "cellMetadata": {
      "byteLimit": 2048000,
      "rowLimit": 10000
     },
     "inputWidgets": {},
     "nuid": "8e1fb7fe-da25-4bc3-9f8d-d5fedcdb5836",
     "showTitle": false,
     "tableResultSettingsMap": {},
     "title": ""
    }
   },
   "outputs": [],
   "source": [
    "checkpoint_location = \"abfss://checkpoint-state@project03storage.dfs.core.windows.net/checkpoint\""
   ]
  },
  {
   "cell_type": "code",
   "execution_count": 0,
   "metadata": {
    "application/vnd.databricks.v1+cell": {
     "cellMetadata": {
      "byteLimit": 2048000,
      "rowLimit": 10000
     },
     "inputWidgets": {},
     "nuid": "d1f24114-f939-4fe8-ba40-60434663fe55",
     "showTitle": false,
     "tableResultSettingsMap": {},
     "title": ""
    }
   },
   "outputs": [],
   "source": [
    "df = spark.readStream\\\n",
    "  .format(\"cloudFiles\")\\\n",
    "  .option(\"cloudFiles.format\", \"csv\")\\\n",
    "  .option(\"cloudFiles.schemaLocation\", checkpoint_location)\\\n",
    "  .load(\"abfss://00-raw@project03storage.dfs.core.windows.net/\")"
   ]
  },
  {
   "cell_type": "code",
   "execution_count": 0,
   "metadata": {
    "application/vnd.databricks.v1+cell": {
     "cellMetadata": {
      "byteLimit": 2048000,
      "rowLimit": 10000
     },
     "inputWidgets": {},
     "nuid": "f8ebcbd8-d4d3-4d9a-b83c-0713a00f981a",
     "showTitle": false,
     "tableResultSettingsMap": {},
     "title": ""
    }
   },
   "outputs": [
    {
     "output_type": "execute_result",
     "data": {
      "text/plain": [
       "<pyspark.sql.streaming.query.StreamingQuery at 0x7f4ac4d06a90>"
      ]
     },
     "execution_count": 12,
     "metadata": {},
     "output_type": "execute_result"
    }
   ],
   "source": [
    "df.writeStream\\\n",
    "  .option(\"checkpointLocation\", checkpoint_location)\\\n",
    "  .trigger(processingTime='10 seconds')\\\n",
    "  .start(\"abfss://01-bronze@project03storage.dfs.core.windows.net/netflix_titles\")"
   ]
  },
  {
   "cell_type": "code",
   "execution_count": 0,
   "metadata": {
    "application/vnd.databricks.v1+cell": {
     "cellMetadata": {
      "byteLimit": 2048000,
      "rowLimit": 10000
     },
     "inputWidgets": {},
     "nuid": "bd35e66d-7908-44b0-86a4-5bd9dd7b6ea4",
     "showTitle": false,
     "tableResultSettingsMap": {},
     "title": ""
    }
   },
   "outputs": [
    {
     "output_type": "display_data",
     "data": {
      "text/html": [
       "<style scoped>\n",
       "  .table-result-container {\n",
       "    max-height: 300px;\n",
       "    overflow: auto;\n",
       "  }\n",
       "  table, th, td {\n",
       "    border: 1px solid black;\n",
       "    border-collapse: collapse;\n",
       "  }\n",
       "  th, td {\n",
       "    padding: 5px;\n",
       "  }\n",
       "  th {\n",
       "    text-align: left;\n",
       "  }\n",
       "</style><div class='table-result-container'><table class='table-result'><thead style='background-color: white'><tr><th>duration_minutes</th><th>duration_seasons</th><th>type</th><th>title</th><th>date_added</th><th>release_year</th><th>rating</th><th>description</th><th>show_id</th><th>_rescued_data</th></tr></thead><tbody><tr><td>90</td><td>null</td><td>Movie</td><td>Norm of the North: King Sized Adventure</td><td>9/9/2019</td><td>2019</td><td>TV-PG</td><td>Before planning an awesome wedding for his grandfather, a polar bear king must take back a stolen artifact from an evil archaeologist first.</td><td>81145628</td><td>null</td></tr><tr><td>94</td><td>null</td><td>Movie</td><td>Jandino: Whatever it Takes</td><td>9/9/2016</td><td>2016</td><td>TV-MA</td><td>\"Jandino Asporaat riffs on the challenges of raising kids and serenades the audience with a rousing rendition of \"\"Sex on Fire\"\" in his comedy show.\"</td><td>80117401</td><td>null</td></tr><tr><td>null</td><td>1</td><td>TV Show</td><td>Transformers Prime</td><td>9/8/2018</td><td>2013</td><td>TV-Y7-FV</td><td>With the help of three human allies, the Autobots once again protect Earth from the onslaught of the Decepticons and their leader, Megatron.</td><td>70234439</td><td>null</td></tr><tr><td>null</td><td>1</td><td>TV Show</td><td>Transformers: Robots in Disguise</td><td>9/8/2018</td><td>2016</td><td>TV-Y7</td><td>When a prison ship crash unleashes hundreds of Decepticons on Earth, Bumblebee leads a new Autobot force to protect humankind.</td><td>80058654</td><td>null</td></tr><tr><td>99</td><td>null</td><td>Movie</td><td>#realityhigh</td><td>9/8/2017</td><td>2017</td><td>TV-14</td><td>When nerdy high schooler Dani finally attracts the interest of her longtime crush, she lands in the cross hairs of his ex, a social media celebrity.</td><td>80125979</td><td>null</td></tr></tbody></table></div>"
      ]
     },
     "metadata": {
      "application/vnd.databricks.v1+output": {
       "addedWidgets": {},
       "aggData": [],
       "aggError": "",
       "aggOverflow": false,
       "aggSchema": [],
       "aggSeriesLimitReached": false,
       "aggType": "",
       "arguments": {},
       "columnCustomDisplayInfos": {},
       "data": [
        [
         "90",
         null,
         "Movie",
         "Norm of the North: King Sized Adventure",
         "9/9/2019",
         "2019",
         "TV-PG",
         "Before planning an awesome wedding for his grandfather, a polar bear king must take back a stolen artifact from an evil archaeologist first.",
         "81145628",
         null
        ],
        [
         "94",
         null,
         "Movie",
         "Jandino: Whatever it Takes",
         "9/9/2016",
         "2016",
         "TV-MA",
         "\"Jandino Asporaat riffs on the challenges of raising kids and serenades the audience with a rousing rendition of \"\"Sex on Fire\"\" in his comedy show.\"",
         "80117401",
         null
        ],
        [
         null,
         "1",
         "TV Show",
         "Transformers Prime",
         "9/8/2018",
         "2013",
         "TV-Y7-FV",
         "With the help of three human allies, the Autobots once again protect Earth from the onslaught of the Decepticons and their leader, Megatron.",
         "70234439",
         null
        ],
        [
         null,
         "1",
         "TV Show",
         "Transformers: Robots in Disguise",
         "9/8/2018",
         "2016",
         "TV-Y7",
         "When a prison ship crash unleashes hundreds of Decepticons on Earth, Bumblebee leads a new Autobot force to protect humankind.",
         "80058654",
         null
        ],
        [
         "99",
         null,
         "Movie",
         "#realityhigh",
         "9/8/2017",
         "2017",
         "TV-14",
         "When nerdy high schooler Dani finally attracts the interest of her longtime crush, she lands in the cross hairs of his ex, a social media celebrity.",
         "80125979",
         null
        ]
       ],
       "datasetInfos": [],
       "dbfsResultPath": null,
       "isJsonSchema": true,
       "metadata": {
        "isDbfsCommandResult": false
       },
       "overflow": false,
       "plotOptions": {
        "customPlotOptions": {},
        "displayType": "table",
        "pivotAggregation": null,
        "pivotColumns": null,
        "xColumns": null,
        "yColumns": null
       },
       "removedWidgets": [],
       "schema": [
        {
         "metadata": "{}",
         "name": "duration_minutes",
         "type": "\"string\""
        },
        {
         "metadata": "{}",
         "name": "duration_seasons",
         "type": "\"string\""
        },
        {
         "metadata": "{}",
         "name": "type",
         "type": "\"string\""
        },
        {
         "metadata": "{}",
         "name": "title",
         "type": "\"string\""
        },
        {
         "metadata": "{}",
         "name": "date_added",
         "type": "\"string\""
        },
        {
         "metadata": "{}",
         "name": "release_year",
         "type": "\"string\""
        },
        {
         "metadata": "{}",
         "name": "rating",
         "type": "\"string\""
        },
        {
         "metadata": "{}",
         "name": "description",
         "type": "\"string\""
        },
        {
         "metadata": "{}",
         "name": "show_id",
         "type": "\"string\""
        },
        {
         "metadata": "{}",
         "name": "_rescued_data",
         "type": "\"string\""
        }
       ],
       "type": "table"
      }
     },
     "output_type": "display_data"
    }
   ],
   "source": [
    "df.limit(5).display()"
   ]
  }
 ],
 "metadata": {
  "application/vnd.databricks.v1+notebook": {
   "computePreferences": null,
   "dashboards": [],
   "environmentMetadata": {
    "base_environment": "",
    "environment_version": "2"
   },
   "language": "python",
   "notebookMetadata": {
    "mostRecentlyExecutedCommandWithImplicitDF": {
     "commandId": 298193113280100,
     "dataframes": [
      "_sqldf"
     ]
    },
    "pythonIndentUnit": 4
   },
   "notebookName": "01_Bronze_AutoLoader",
   "widgets": {}
  },
  "language_info": {
   "name": "python"
  }
 },
 "nbformat": 4,
 "nbformat_minor": 0
}